{
 "cells": [
  {
   "cell_type": "code",
   "execution_count": 1,
   "id": "96b7a0a0",
   "metadata": {},
   "outputs": [
    {
     "name": "stderr",
     "output_type": "stream",
     "text": [
      "C:\\Users\\Lenovo\\Anaconda3\\lib\\site-packages\\scipy\\__init__.py:146: UserWarning: A NumPy version >=1.16.5 and <1.23.0 is required for this version of SciPy (detected version 1.26.4\n",
      "  warnings.warn(f\"A NumPy version >={np_minversion} and <{np_maxversion}\"\n"
     ]
    }
   ],
   "source": [
    "import numpy as np\n",
    "import pandas as pd\n",
    "\n",
    "import matplotlib.pyplot as plt\n",
    "%matplotlib inline\n",
    "\n",
    "import seaborn as sns\n",
    "sns.set(style = \"whitegrid\", \n",
    "        color_codes = True,\n",
    "        font_scale = 1.5)"
   ]
  },
  {
   "cell_type": "code",
   "execution_count": 10,
   "id": "7893d080",
   "metadata": {},
   "outputs": [
    {
     "name": "stdout",
     "output_type": "stream",
     "text": [
      "Loaded with encoding: latin1\n",
      "     v1                                                 v2 Unnamed: 2  \\\n",
      "0   ham  Go until jurong point, crazy.. Available only ...        NaN   \n",
      "1   ham                      Ok lar... Joking wif u oni...        NaN   \n",
      "2  spam  Free entry in 2 a wkly comp to win FA Cup fina...        NaN   \n",
      "3   ham  U dun say so early hor... U c already then say...        NaN   \n",
      "4   ham  Nah I don't think he goes to usf, he lives aro...        NaN   \n",
      "\n",
      "  Unnamed: 3 Unnamed: 4  \n",
      "0        NaN        NaN  \n",
      "1        NaN        NaN  \n",
      "2        NaN        NaN  \n",
      "3        NaN        NaN  \n",
      "4        NaN        NaN  \n"
     ]
    }
   ],
   "source": [
    "# Path to the downloaded CSV file\n",
    "file_path = r'C:\\Users\\Lenovo\\Downloads\\archive\\spam.csv'\n",
    "\n",
    "# List of common encodings to try\n",
    "encodings = ['latin1', 'ISO-8859-1', 'cp1252']\n",
    "\n",
    "# Attempt to load the file with different encodings\n",
    "for encoding in encodings:\n",
    "    try:\n",
    "        data = pd.read_csv(file_path, encoding=encoding)\n",
    "        print(f\"Loaded with encoding: {encoding}\")\n",
    "        print(data.head())\n",
    "        break\n",
    "    except Exception as e:\n",
    "        print(f\"Failed with encoding: {encoding}. Error: {e}\")"
   ]
  },
  {
   "cell_type": "code",
   "execution_count": 11,
   "id": "97110f7a",
   "metadata": {},
   "outputs": [
    {
     "data": {
      "text/html": [
       "<div>\n",
       "<style scoped>\n",
       "    .dataframe tbody tr th:only-of-type {\n",
       "        vertical-align: middle;\n",
       "    }\n",
       "\n",
       "    .dataframe tbody tr th {\n",
       "        vertical-align: top;\n",
       "    }\n",
       "\n",
       "    .dataframe thead th {\n",
       "        text-align: right;\n",
       "    }\n",
       "</style>\n",
       "<table border=\"1\" class=\"dataframe\">\n",
       "  <thead>\n",
       "    <tr style=\"text-align: right;\">\n",
       "      <th></th>\n",
       "      <th>v1</th>\n",
       "      <th>v2</th>\n",
       "      <th>Unnamed: 2</th>\n",
       "      <th>Unnamed: 3</th>\n",
       "      <th>Unnamed: 4</th>\n",
       "    </tr>\n",
       "  </thead>\n",
       "  <tbody>\n",
       "    <tr>\n",
       "      <th>0</th>\n",
       "      <td>ham</td>\n",
       "      <td>Go until jurong point, crazy.. Available only ...</td>\n",
       "      <td>NaN</td>\n",
       "      <td>NaN</td>\n",
       "      <td>NaN</td>\n",
       "    </tr>\n",
       "    <tr>\n",
       "      <th>1</th>\n",
       "      <td>ham</td>\n",
       "      <td>Ok lar... Joking wif u oni...</td>\n",
       "      <td>NaN</td>\n",
       "      <td>NaN</td>\n",
       "      <td>NaN</td>\n",
       "    </tr>\n",
       "    <tr>\n",
       "      <th>2</th>\n",
       "      <td>spam</td>\n",
       "      <td>Free entry in 2 a wkly comp to win FA Cup fina...</td>\n",
       "      <td>NaN</td>\n",
       "      <td>NaN</td>\n",
       "      <td>NaN</td>\n",
       "    </tr>\n",
       "    <tr>\n",
       "      <th>3</th>\n",
       "      <td>ham</td>\n",
       "      <td>U dun say so early hor... U c already then say...</td>\n",
       "      <td>NaN</td>\n",
       "      <td>NaN</td>\n",
       "      <td>NaN</td>\n",
       "    </tr>\n",
       "    <tr>\n",
       "      <th>4</th>\n",
       "      <td>ham</td>\n",
       "      <td>Nah I don't think he goes to usf, he lives aro...</td>\n",
       "      <td>NaN</td>\n",
       "      <td>NaN</td>\n",
       "      <td>NaN</td>\n",
       "    </tr>\n",
       "    <tr>\n",
       "      <th>...</th>\n",
       "      <td>...</td>\n",
       "      <td>...</td>\n",
       "      <td>...</td>\n",
       "      <td>...</td>\n",
       "      <td>...</td>\n",
       "    </tr>\n",
       "    <tr>\n",
       "      <th>5567</th>\n",
       "      <td>spam</td>\n",
       "      <td>This is the 2nd time we have tried 2 contact u...</td>\n",
       "      <td>NaN</td>\n",
       "      <td>NaN</td>\n",
       "      <td>NaN</td>\n",
       "    </tr>\n",
       "    <tr>\n",
       "      <th>5568</th>\n",
       "      <td>ham</td>\n",
       "      <td>Will Ì_ b going to esplanade fr home?</td>\n",
       "      <td>NaN</td>\n",
       "      <td>NaN</td>\n",
       "      <td>NaN</td>\n",
       "    </tr>\n",
       "    <tr>\n",
       "      <th>5569</th>\n",
       "      <td>ham</td>\n",
       "      <td>Pity, * was in mood for that. So...any other s...</td>\n",
       "      <td>NaN</td>\n",
       "      <td>NaN</td>\n",
       "      <td>NaN</td>\n",
       "    </tr>\n",
       "    <tr>\n",
       "      <th>5570</th>\n",
       "      <td>ham</td>\n",
       "      <td>The guy did some bitching but I acted like i'd...</td>\n",
       "      <td>NaN</td>\n",
       "      <td>NaN</td>\n",
       "      <td>NaN</td>\n",
       "    </tr>\n",
       "    <tr>\n",
       "      <th>5571</th>\n",
       "      <td>ham</td>\n",
       "      <td>Rofl. Its true to its name</td>\n",
       "      <td>NaN</td>\n",
       "      <td>NaN</td>\n",
       "      <td>NaN</td>\n",
       "    </tr>\n",
       "  </tbody>\n",
       "</table>\n",
       "<p>5572 rows × 5 columns</p>\n",
       "</div>"
      ],
      "text/plain": [
       "        v1                                                 v2 Unnamed: 2  \\\n",
       "0      ham  Go until jurong point, crazy.. Available only ...        NaN   \n",
       "1      ham                      Ok lar... Joking wif u oni...        NaN   \n",
       "2     spam  Free entry in 2 a wkly comp to win FA Cup fina...        NaN   \n",
       "3      ham  U dun say so early hor... U c already then say...        NaN   \n",
       "4      ham  Nah I don't think he goes to usf, he lives aro...        NaN   \n",
       "...    ...                                                ...        ...   \n",
       "5567  spam  This is the 2nd time we have tried 2 contact u...        NaN   \n",
       "5568   ham              Will Ì_ b going to esplanade fr home?        NaN   \n",
       "5569   ham  Pity, * was in mood for that. So...any other s...        NaN   \n",
       "5570   ham  The guy did some bitching but I acted like i'd...        NaN   \n",
       "5571   ham                         Rofl. Its true to its name        NaN   \n",
       "\n",
       "     Unnamed: 3 Unnamed: 4  \n",
       "0           NaN        NaN  \n",
       "1           NaN        NaN  \n",
       "2           NaN        NaN  \n",
       "3           NaN        NaN  \n",
       "4           NaN        NaN  \n",
       "...         ...        ...  \n",
       "5567        NaN        NaN  \n",
       "5568        NaN        NaN  \n",
       "5569        NaN        NaN  \n",
       "5570        NaN        NaN  \n",
       "5571        NaN        NaN  \n",
       "\n",
       "[5572 rows x 5 columns]"
      ]
     },
     "execution_count": 11,
     "metadata": {},
     "output_type": "execute_result"
    }
   ],
   "source": [
    "data"
   ]
  },
  {
   "cell_type": "code",
   "execution_count": 12,
   "id": "d9751d90",
   "metadata": {},
   "outputs": [
    {
     "name": "stdout",
     "output_type": "stream",
     "text": [
      "  label                                            message\n",
      "0   ham  Go until jurong point, crazy.. Available only ...\n",
      "1   ham                      Ok lar... Joking wif u oni...\n",
      "2  spam  Free entry in 2 a wkly comp to win FA Cup fina...\n",
      "3   ham  U dun say so early hor... U c already then say...\n",
      "4   ham  Nah I don't think he goes to usf, he lives aro...\n"
     ]
    }
   ],
   "source": [
    "# Drop unnecessary columns\n",
    "data_cleaned = data.drop(columns=['Unnamed: 2', 'Unnamed: 3', 'Unnamed: 4'])\n",
    "\n",
    "# Rename columns for clarity\n",
    "data_cleaned.columns = ['label', 'message']\n",
    "\n",
    "# Display the cleaned DataFrame\n",
    "print(data_cleaned.head())"
   ]
  },
  {
   "cell_type": "code",
   "execution_count": 13,
   "id": "3926b981",
   "metadata": {},
   "outputs": [],
   "source": [
    "from sklearn.model_selection import train_test_split"
   ]
  },
  {
   "cell_type": "code",
   "execution_count": 14,
   "id": "9b108cfa",
   "metadata": {},
   "outputs": [],
   "source": [
    "X = data_cleaned['message']  # Features\n",
    "y = data_cleaned['label']    # Target"
   ]
  },
  {
   "cell_type": "code",
   "execution_count": 15,
   "id": "b2a4e879",
   "metadata": {},
   "outputs": [],
   "source": [
    "X_train, X_test, y_train, y_test = train_test_split(X, y, test_size=0.2, random_state=42)"
   ]
  },
  {
   "cell_type": "code",
   "execution_count": 16,
   "id": "30d9fe8c",
   "metadata": {},
   "outputs": [
    {
     "name": "stdout",
     "output_type": "stream",
     "text": [
      "Training set size: 4457\n",
      "Test set size: 1115\n"
     ]
    }
   ],
   "source": [
    "# Display the sizes of the resulting sets\n",
    "print(f\"Training set size: {len(X_train)}\")\n",
    "print(f\"Test set size: {len(X_test)}\")"
   ]
  },
  {
   "cell_type": "code",
   "execution_count": 19,
   "id": "59025409",
   "metadata": {},
   "outputs": [],
   "source": [
    "X_train = X_train.str.lower()\n",
    "X_test = X_test.str.lower()"
   ]
  },
  {
   "cell_type": "code",
   "execution_count": 20,
   "id": "f9c40d68",
   "metadata": {},
   "outputs": [
    {
     "data": {
      "text/plain": [
       "1978    no i'm in the same boat. still here at my moms...\n",
       "3989    (bank of granite issues strong-buy) explosive ...\n",
       "3935       they r giving a second chance to rahul dengra.\n",
       "4078       o i played smash bros  &lt;#&gt;  religiously.\n",
       "4086    private! your 2003 account statement for 07973...\n",
       "Name: message, dtype: object"
      ]
     },
     "execution_count": 20,
     "metadata": {},
     "output_type": "execute_result"
    }
   ],
   "source": [
    "X_train.head()"
   ]
  },
  {
   "cell_type": "code",
   "execution_count": 21,
   "id": "edebc6fc",
   "metadata": {},
   "outputs": [],
   "source": [
    "y_train = y_train.map({'ham': 0, 'spam': 1})\n",
    "y_test = y_test.map({'ham': 0, 'spam': 1})"
   ]
  },
  {
   "cell_type": "code",
   "execution_count": 22,
   "id": "ada696eb",
   "metadata": {},
   "outputs": [],
   "source": [
    "from sklearn.feature_extraction.text import CountVectorizer\n",
    "\n",
    "# Initialize the CountVectorizer\n",
    "vectorizer = CountVectorizer()"
   ]
  },
  {
   "cell_type": "code",
   "execution_count": 24,
   "id": "0c2c58af",
   "metadata": {},
   "outputs": [],
   "source": [
    "# Fit and transform the training data\n",
    "X_train_counts = vectorizer.fit_transform(X_train)\n",
    "\n",
    "# Transform the test data\n",
    "X_test_counts = vectorizer.transform(X_test)"
   ]
  },
  {
   "cell_type": "code",
   "execution_count": 25,
   "id": "28325fb8",
   "metadata": {},
   "outputs": [
    {
     "data": {
      "text/plain": [
       "<4457x7735 sparse matrix of type '<class 'numpy.int64'>'\n",
       "\twith 58978 stored elements in Compressed Sparse Row format>"
      ]
     },
     "execution_count": 25,
     "metadata": {},
     "output_type": "execute_result"
    }
   ],
   "source": [
    "X_train_counts "
   ]
  },
  {
   "cell_type": "code",
   "execution_count": 27,
   "id": "3ba08efa",
   "metadata": {},
   "outputs": [
    {
     "name": "stdout",
     "output_type": "stream",
     "text": [
      "[0 0 0 ... 0 0 0]\n"
     ]
    }
   ],
   "source": [
    "# Convert the sparse matrix to a dense array\n",
    "X_train_dense = X_train_counts.toarray()\n",
    "\n",
    "# Print the first document's word counts\n",
    "print(X_train_dense[0])"
   ]
  },
  {
   "cell_type": "code",
   "execution_count": 29,
   "id": "d4f43f0c",
   "metadata": {},
   "outputs": [
    {
     "data": {
      "text/plain": [
       "<Figure size 864x432 with 0 Axes>"
      ]
     },
     "metadata": {},
     "output_type": "display_data"
    },
    {
     "data": {
      "image/png": "[encoded data removed]",
      "text/plain": [
       "<Figure size 864x576 with 1 Axes>"
      ]
     },
     "metadata": {},
     "output_type": "display_data"
    }
   ],
   "source": [
    "import numpy as np\n",
    "import pandas as pd\n",
    "import matplotlib.pyplot as plt\n",
    "\n",
    "# Convert the sparse matrix to a dense array\n",
    "X_train_dense = X_train_counts.toarray()\n",
    "\n",
    "# Create DataFrame for easier analysis\n",
    "df = pd.DataFrame(X_train_dense, columns=vectorizer.get_feature_names())\n",
    "df['label'] = y_train.values\n",
    "\n",
    "# Compute proportions for each class\n",
    "spam_proportion = df[df['label'] == 1].drop('label', axis=1).mean()\n",
    "ham_proportion = df[df['label'] == 0].drop('label', axis=1).mean()\n",
    "\n",
    "# Calculate proportion of spam and ham emails containing each word\n",
    "proportion_spam = spam_proportion / (df['label'] == 1).sum()\n",
    "proportion_ham = ham_proportion / (df['label'] == 0).sum()\n",
    "\n",
    "# Select top features with different proportions\n",
    "top_features = np.abs(proportion_spam - proportion_ham).nlargest(10).index\n",
    "\n",
    "# Plotting\n",
    "plt.figure(figsize=(12, 6))\n",
    "x = np.arange(len(top_features))\n",
    "width = 0.35\n",
    "\n",
    "fig, ax = plt.subplots(figsize=(12, 8))\n",
    "rects1 = ax.bar(x - width/2, proportion_spam[top_features], width, label='Spam')\n",
    "rects2 = ax.bar(x + width/2, proportion_ham[top_features], width, label='Ham')\n",
    "\n",
    "ax.set_xlabel('Words')\n",
    "ax.set_ylabel('Proportion')\n",
    "ax.set_title('Proportion of Spam and Ham Emails Containing Certain Words')\n",
    "ax.set_xticks(x)\n",
    "ax.set_xticklabels(top_features, rotation=90)\n",
    "ax.legend()\n",
    "\n",
    "plt.tight_layout()\n",
    "plt.show()\n"
   ]
  },
  {
   "cell_type": "code",
   "execution_count": 30,
   "id": "d5c671ec",
   "metadata": {},
   "outputs": [
    {
     "name": "stderr",
     "output_type": "stream",
     "text": [
      "[nltk_data] Downloading package punkt to\n",
      "[nltk_data]     C:\\Users\\Lenovo\\AppData\\Roaming\\nltk_data...\n",
      "[nltk_data]   Unzipping tokenizers\\punkt.zip.\n",
      "[nltk_data] Downloading package stopwords to\n",
      "[nltk_data]     C:\\Users\\Lenovo\\AppData\\Roaming\\nltk_data...\n",
      "[nltk_data]   Unzipping corpora\\stopwords.zip.\n"
     ]
    },
    {
     "data": {
      "text/plain": [
       "True"
      ]
     },
     "execution_count": 30,
     "metadata": {},
     "output_type": "execute_result"
    }
   ],
   "source": [
    "import pandas as pd\n",
    "import nltk\n",
    "from nltk.corpus import stopwords\n",
    "from nltk.tokenize import word_tokenize\n",
    "from sklearn.feature_extraction.text import CountVectorizer\n",
    "\n",
    "# Download the NLTK stop words if you haven't already\n",
    "nltk.download('punkt')\n",
    "nltk.download('stopwords')"
   ]
  },
  {
   "cell_type": "code",
   "execution_count": 31,
   "id": "ede6915b",
   "metadata": {},
   "outputs": [],
   "source": [
    "# Load stop words\n",
    "stop_words = set(stopwords.words('english'))\n",
    "\n",
    "# Function to remove stop words\n",
    "def remove_stop_words(text):\n",
    "    words = word_tokenize(text)\n",
    "    filtered_words = [word for word in words if word.lower() not in stop_words]\n",
    "    return ' '.join(filtered_words)\n"
   ]
  },
  {
   "cell_type": "code",
   "execution_count": 32,
   "id": "b4e000d7",
   "metadata": {},
   "outputs": [],
   "source": [
    "\n",
    "# Apply stop word removal to the training and test data\n",
    "X_train_cleaned = X_train.apply(remove_stop_words)\n",
    "X_test_cleaned = X_test.apply(remove_stop_words)\n",
    "\n",
    "\n"
   ]
  },
  {
   "cell_type": "code",
   "execution_count": 34,
   "id": "56e788f2",
   "metadata": {},
   "outputs": [
    {
     "data": {
      "text/plain": [
       "1978    'm boat . still moms . check yo . 'm half naked .\n",
       "3989    ( bank granite issues strong-buy ) explosive p...\n",
       "3935                r giving second chance rahul dengra .\n",
       "4078      played smash bros & lt ; # & gt ; religiously .\n",
       "4086    private ! 2003 account statement 07973788240 s...\n",
       "                              ...                        \n",
       "3772    came hostel . going sleep . plz call class . h...\n",
       "5191                               sorry , 'll call later\n",
       "5226    prabha .. 'm soryda .. realy .. frm heart 'm sory\n",
       "5390                             nt joking seriously told\n",
       "860                                    work . going min .\n",
       "Name: message, Length: 4457, dtype: object"
      ]
     },
     "execution_count": 34,
     "metadata": {},
     "output_type": "execute_result"
    }
   ],
   "source": [
    "X_train_cleaned"
   ]
  },
  {
   "cell_type": "code",
   "execution_count": 37,
   "id": "6d95e74b",
   "metadata": {},
   "outputs": [],
   "source": [
    "import string\n",
    "# Function to remove stop words and punctuation\n",
    "def preprocess_text(text):\n",
    "    # Tokenize the text\n",
    "    words = word_tokenize(text)\n",
    "    # Remove stop words and punctuation\n",
    "    filtered_words = [word for word in words if word.lower() not in stop_words and word not in string.punctuation]\n",
    "    return ' '.join(filtered_words)\n",
    "\n",
    "# Apply preprocessing to the training and test data\n",
    "X_train_cleaned = X_train.apply(preprocess_text)\n",
    "X_test_cleaned = X_test.apply(preprocess_text)"
   ]
  },
  {
   "cell_type": "code",
   "execution_count": 38,
   "id": "f53e10c9",
   "metadata": {},
   "outputs": [
    {
     "data": {
      "text/plain": [
       "1978            'm boat still moms check yo 'm half naked\n",
       "3989    bank granite issues strong-buy explosive pick ...\n",
       "3935                  r giving second chance rahul dengra\n",
       "4078                  played smash bros lt gt religiously\n",
       "4086    private 2003 account statement 07973788240 sho...\n",
       "                              ...                        \n",
       "3772        came hostel going sleep plz call class hrishi\n",
       "5191                                 sorry 'll call later\n",
       "5226    prabha .. 'm soryda .. realy .. frm heart 'm sory\n",
       "5390                             nt joking seriously told\n",
       "860                                        work going min\n",
       "Name: message, Length: 4457, dtype: object"
      ]
     },
     "execution_count": 38,
     "metadata": {},
     "output_type": "execute_result"
    }
   ],
   "source": [
    "X_train_cleaned"
   ]
  },
  {
   "cell_type": "code",
   "execution_count": 39,
   "id": "c98240b1",
   "metadata": {},
   "outputs": [],
   "source": [
    "\n",
    "# Initialize CountVectorizer\n",
    "vectorizer = CountVectorizer()\n",
    "X_train_counts = vectorizer.fit_transform(X_train_cleaned)\n",
    "X_test_counts = vectorizer.transform(X_test_cleaned)\n",
    "\n",
    "# Convert the sparse matrix to a dense array\n",
    "X_train_dense = X_train_counts.toarray()\n",
    "X_test_dense = X_test_counts.toarray()"
   ]
  },
  {
   "cell_type": "code",
   "execution_count": 40,
   "id": "6f14b95d",
   "metadata": {},
   "outputs": [],
   "source": [
    "# Assuming X_train_cleaned contains the cleaned email messages and y_train contains the labels\n",
    "\n",
    "# Calculate lengths of emails\n",
    "email_lengths = X_train_cleaned.apply(len)\n",
    "\n",
    "# Create a DataFrame with lengths and labels\n",
    "lengths_df = pd.DataFrame({\n",
    "    'length': email_lengths,\n",
    "    'label': y_train\n",
    "})\n"
   ]
  },
  {
   "cell_type": "code",
   "execution_count": 41,
   "id": "5de46914",
   "metadata": {},
   "outputs": [],
   "source": [
    "# Split into spam and ham\n",
    "spam_lengths = lengths_df[lengths_df['label'] == 1]['length']\n",
    "ham_lengths = lengths_df[lengths_df['label'] == 0]['length']\n"
   ]
  },
  {
   "cell_type": "code",
   "execution_count": 42,
   "id": "aa880fed",
   "metadata": {},
   "outputs": [
    {
     "data": {
      "image/png": "[encoded data removed]",
      "text/plain": [
       "<Figure size 720x432 with 1 Axes>"
      ]
     },
     "metadata": {},
     "output_type": "display_data"
    }
   ],
   "source": [
    "import seaborn as sns\n",
    "import matplotlib.pyplot as plt\n",
    "\n",
    "# Plot\n",
    "plt.figure(figsize=(10, 6))\n",
    "sns.kdeplot(spam_lengths, label='Spam', shade=True)\n",
    "sns.kdeplot(ham_lengths, label='Ham', shade=True)\n",
    "plt.title('Density Plot of Email Lengths')\n",
    "plt.xlabel('Email Length')\n",
    "plt.ylabel('Density')\n",
    "plt.legend()\n",
    "plt.show()\n"
   ]
  },
  {
   "cell_type": "code",
   "execution_count": 43,
   "id": "ad6dd5f1",
   "metadata": {},
   "outputs": [],
   "source": [
    "from sklearn.feature_extraction.text import CountVectorizer\n",
    "from sklearn.model_selection import train_test_split\n",
    "from sklearn.naive_bayes import MultinomialNB\n",
    "from sklearn.metrics import accuracy_score"
   ]
  },
  {
   "cell_type": "code",
   "execution_count": 44,
   "id": "8fb01643",
   "metadata": {},
   "outputs": [],
   "source": [
    "# Assuming X_train_cleaned and X_test_cleaned are already preprocessed\n",
    "# and you have already removed stop words from the messages\n",
    "\n",
    "# Reuse vectorizer with stop words removal\n",
    "vectorizer = CountVectorizer(stop_words='english')\n",
    "\n",
    "# Vectorize the cleaned training and test data\n",
    "X_train_counts = vectorizer.fit_transform(X_train_cleaned)\n",
    "X_test_counts = vectorizer.transform(X_test_cleaned)"
   ]
  },
  {
   "cell_type": "code",
   "execution_count": 45,
   "id": "5ee2aded",
   "metadata": {},
   "outputs": [],
   "source": [
    "# Initialize and fit the model\n",
    "clf = MultinomialNB()\n",
    "clf.fit(X_train_counts, y_train)\n",
    "\n",
    "# Make predictions\n",
    "y_pred = clf.predict(X_test_counts)"
   ]
  },
  {
   "cell_type": "code",
   "execution_count": 46,
   "id": "96c33374",
   "metadata": {},
   "outputs": [
    {
     "name": "stdout",
     "output_type": "stream",
     "text": [
      "Accuracy: 0.98\n"
     ]
    }
   ],
   "source": [
    "# Evaluate the model\n",
    "accuracy = accuracy_score(y_test, y_pred)\n",
    "print(f\"Accuracy: {accuracy:.2f}\")"
   ]
  },
  {
   "cell_type": "code",
   "execution_count": 47,
   "id": "f4b05246",
   "metadata": {},
   "outputs": [],
   "source": [
    "msg = \"Congratulations! You've won a $1000 gift card. Click the link below to claim your prize. Act fast, this offer is only valid for the next 24 hours. Don't miss out!\""
   ]
  },
  {
   "cell_type": "code",
   "execution_count": 48,
   "id": "d6a03a9c",
   "metadata": {},
   "outputs": [
    {
     "ename": "ValueError",
     "evalue": "Iterable over raw text documents expected, string object received.",
     "output_type": "error",
     "traceback": [
      "\u001b[1;31m---------------------------------------------------------------------------\u001b[0m",
      "\u001b[1;31mValueError\u001b[0m                                Traceback (most recent call last)",
      "\u001b[1;32m~\\AppData\\Local\\Temp/ipykernel_8476/3097336467.py\u001b[0m in \u001b[0;36m<module>\u001b[1;34m\u001b[0m\n\u001b[1;32m----> 1\u001b[1;33m \u001b[0mmsg\u001b[0m \u001b[1;33m=\u001b[0m \u001b[0mvectorizer\u001b[0m\u001b[1;33m.\u001b[0m\u001b[0mtransform\u001b[0m\u001b[1;33m(\u001b[0m\u001b[0mmsg\u001b[0m\u001b[1;33m)\u001b[0m\u001b[1;33m\u001b[0m\u001b[1;33m\u001b[0m\u001b[0m\n\u001b[0m",
      "\u001b[1;32m~\\Anaconda3\\lib\\site-packages\\sklearn\\feature_extraction\\text.py\u001b[0m in \u001b[0;36mtransform\u001b[1;34m(self, raw_documents)\u001b[0m\n\u001b[0;32m   1246\u001b[0m         \"\"\"\n\u001b[0;32m   1247\u001b[0m         \u001b[1;32mif\u001b[0m \u001b[0misinstance\u001b[0m\u001b[1;33m(\u001b[0m\u001b[0mraw_documents\u001b[0m\u001b[1;33m,\u001b[0m \u001b[0mstr\u001b[0m\u001b[1;33m)\u001b[0m\u001b[1;33m:\u001b[0m\u001b[1;33m\u001b[0m\u001b[1;33m\u001b[0m\u001b[0m\n\u001b[1;32m-> 1248\u001b[1;33m             raise ValueError(\n\u001b[0m\u001b[0;32m   1249\u001b[0m                 \u001b[1;34m\"Iterable over raw text documents expected, \"\u001b[0m\u001b[1;33m\u001b[0m\u001b[1;33m\u001b[0m\u001b[0m\n\u001b[0;32m   1250\u001b[0m                 \"string object received.\")\n",
      "\u001b[1;31mValueError\u001b[0m: Iterable over raw text documents expected, string object received."
     ]
    }
   ],
   "source": [
    "msg = vectorizer.transform(msg)"
   ]
  },
  {
   "cell_type": "code",
   "execution_count": 49,
   "id": "f1d5b598",
   "metadata": {},
   "outputs": [
    {
     "name": "stdout",
     "output_type": "stream",
     "text": [
      "Prediction: Spam\n"
     ]
    }
   ],
   "source": [
    "# Example message\n",
    "msg = \"Congratulations! You've won a $1000 gift card. Click the link below to claim your prize. Act fast, this offer is only valid for the next 24 hours. Don't miss out!\"\n",
    "\n",
    "# Function to preprocess the message (assuming you have used this earlier)\n",
    "def preprocess_text(text):\n",
    "    # Apply the same preprocessing steps as you did on training data\n",
    "    # Example: lowercasing, removing punctuation, etc.\n",
    "    return text.lower()  # Add more preprocessing if needed\n",
    "\n",
    "# Preprocess the message\n",
    "processed_msg = preprocess_text(msg)\n",
    "\n",
    "# Transform the message using the existing CountVectorizer\n",
    "msg_vectorized = vectorizer.transform([processed_msg])\n",
    "\n",
    "# Predict the class using the trained model\n",
    "prediction = clf.predict(msg_vectorized)\n",
    "\n",
    "# Output the result\n",
    "print(\"Prediction:\", \"Spam\" if prediction[0] == 1 else \"Ham\")\n"
   ]
  },
  {
   "cell_type": "code",
   "execution_count": 52,
   "id": "d5b1178e",
   "metadata": {},
   "outputs": [],
   "source": [
    "def classify_message(message):\n",
    "    # Preprocess the message (convert to lowercase, remove punctuation, etc.)\n",
    "    message_cleaned = preprocess_text(message)\n",
    "    \n",
    "    # Transform the message using the trained vectorizer\n",
    "    message_vectorized = vectorizer.transform([message_cleaned])\n",
    "    \n",
    "    # Predict using the trained model\n",
    "    prediction = clf.predict(message_vectorized)\n",
    "    \n",
    "    # Output the prediction\n",
    "    return 'spam' if prediction[0] == 1 else 'ham'"
   ]
  },
  {
   "cell_type": "code",
   "execution_count": 53,
   "id": "1654f158",
   "metadata": {},
   "outputs": [
    {
     "name": "stdout",
     "output_type": "stream",
     "text": [
      "ham\n"
     ]
    }
   ],
   "source": [
    "msg_spam = \"Hi there! I just wanted to check in and see how you're doing. Let's catch up sometime soon. Maybe we can grab coffee next week. Let me know what your schedule looks like.\"\n",
    "print(classify_message(msg_ham))"
   ]
  },
  {
   "cell_type": "code",
   "execution_count": 54,
   "id": "03e0df37",
   "metadata": {},
   "outputs": [
    {
     "name": "stdout",
     "output_type": "stream",
     "text": [
      "ham\n"
     ]
    }
   ],
   "source": [
    "# Example ham message\n",
    "msg_ham = \"Hi there! I just wanted to check in and see how you're doing. Let's catch up sometime soon. Maybe we can grab coffee next week. Let me know what your schedule looks like.\"\n",
    "\n",
    "# Classify the message\n",
    "print(classify_message(msg_ham))"
   ]
  },
  {
   "cell_type": "code",
   "execution_count": 55,
   "id": "c222a77a",
   "metadata": {},
   "outputs": [],
   "source": [
    "msg_spam1 = \"Congratulations! You've won a $1000 gift card. Click the link below to claim your prize. Act fast, this offer is only valid for the next 24 hours. Don't miss out!\"\n",
    "msg_spam2 = \"Get paid to work from home! No experience needed. Click here to start earning money today. Sign up now!\"\n",
    "msg_spam3 = \"Urgent: Your account has been compromised. Please click the link below to verify your identity and secure your account immediately.\"\n",
    "msg_spam4 = \"Exclusive deal just for you! Buy one get one free on all items. Limited time offer. Click here to shop now and save big!\"\n",
    "msg_spam5 = \"Don't miss out on this limited-time offer! Get your free trial of our premium service today. Cancel anytime, no commitment required.\""
   ]
  },
  {
   "cell_type": "code",
   "execution_count": 56,
   "id": "1520ec5b",
   "metadata": {},
   "outputs": [],
   "source": [
    "msg_ham1 = \"Hi there! I just wanted to check in and see how you're doing. Let's catch up sometime soon. Maybe we can grab coffee next week. Let me know what your schedule looks like.\"\n",
    "msg_ham2 = \"Hey, I saw your post about the new project. That sounds exciting! Would love to hear more about it when you have time.\"\n",
    "msg_ham3 = \"Just wanted to let you know that the meeting has been rescheduled to 2 PM tomorrow. Hope that works for you.\"\n",
    "msg_ham4 = \"Thanks for sending over the report. I reviewed it and have a few questions. Can we discuss this over a call?\"\n",
    "msg_ham5 = \"I hope you’re having a great day! Just a quick reminder about our lunch plans tomorrow. Looking forward to it!\""
   ]
  },
  {
   "cell_type": "code",
   "execution_count": 57,
   "id": "703a85dc",
   "metadata": {},
   "outputs": [
    {
     "name": "stdout",
     "output_type": "stream",
     "text": [
      "ham\n",
      "ham\n",
      "ham\n",
      "ham\n",
      "ham\n"
     ]
    }
   ],
   "source": [
    "print(classify_message(msg_ham1))\n",
    "print(classify_message(msg_ham2))\n",
    "print(classify_message(msg_ham3))\n",
    "print(classify_message(msg_ham4))\n",
    "print(classify_message(msg_ham5))"
   ]
  },
  {
   "cell_type": "code",
   "execution_count": 58,
   "id": "1f210d1d",
   "metadata": {},
   "outputs": [
    {
     "name": "stdout",
     "output_type": "stream",
     "text": [
      "spam\n",
      "ham\n",
      "spam\n",
      "ham\n",
      "spam\n"
     ]
    }
   ],
   "source": [
    "print(classify_message(msg_spam1))\n",
    "print(classify_message(msg_spam2))\n",
    "print(classify_message(msg_spam3))\n",
    "print(classify_message(msg_spam4))\n",
    "print(classify_message(msg_spam5))"
   ]
  },
  {
   "cell_type": "code",
   "execution_count": null,
   "id": "53ef7939",
   "metadata": {},
   "outputs": [],
   "source": []
  }
 ],
 "metadata": {
  "kernelspec": {
   "display_name": "Python 3 (ipykernel)",
   "language": "python",
   "name": "python3"
  },
  "language_info": {
   "codemirror_mode": {
    "name": "ipython",
    "version": 3
   },
   "file_extension": ".py",
   "mimetype": "text/x-python",
   "name": "python",
   "nbconvert_exporter": "python",
   "pygments_lexer": "ipython3",
   "version": "3.9.7"
  }
 },
 "nbformat": 4,
 "nbformat_minor": 5
}
