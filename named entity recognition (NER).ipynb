{
 "cells": [
  {
   "cell_type": "code",
   "execution_count": 1,
   "id": "e811e32d",
   "metadata": {},
   "outputs": [],
   "source": [
    "import spacy\n",
    "from pprint import pprint"
   ]
  },
  {
   "cell_type": "code",
   "execution_count": 2,
   "id": "82b9f00c",
   "metadata": {},
   "outputs": [],
   "source": [
    "# Load SpaCy model\n",
    "nlp = spacy.load('en_core_web_sm')"
   ]
  },
  {
   "cell_type": "code",
   "execution_count": 3,
   "id": "5fe86d05",
   "metadata": {},
   "outputs": [],
   "source": [
    "def extract_entities(text):\n",
    "    \"\"\"\n",
    "    Extract names, dates, and locations from the given text.\n",
    "\n",
    "    Parameters:\n",
    "    text (str): The input text from which to extract entities.\n",
    "\n",
    "    Returns:\n",
    "    dict: A dictionary with keys 'names', 'dates', and 'locations' containing the extracted entities.\n",
    "    \"\"\"\n",
    "    # Process the text\n",
    "    doc = nlp(text)\n",
    "\n",
    "    # Extract entities\n",
    "    entities = {\n",
    "        'names': [ent.text for ent in doc.ents if ent.label_ == 'PERSON'],\n",
    "        'dates': [ent.text for ent in doc.ents if ent.label_ == 'DATE'],\n",
    "        'locations': [ent.text for ent in doc.ents if ent.label_ == 'GPE']\n",
    "    }\n",
    "    \n",
    "    return entities\n"
   ]
  },
  {
   "cell_type": "code",
   "execution_count": 4,
   "id": "777978ec",
   "metadata": {},
   "outputs": [
    {
     "name": "stdout",
     "output_type": "stream",
     "text": [
      "{'dates': ['January 15, 1990'],\n",
      " 'locations': ['New York City'],\n",
      " 'names': ['John Doe']}\n"
     ]
    }
   ],
   "source": [
    "text1 = \"John Doe was born on January 15, 1990, in New York City.\"\n",
    "result = extract_entities(text1)\n",
    "\n",
    "# Pretty-print the result\n",
    "pprint(result)"
   ]
  },
  {
   "cell_type": "code",
   "execution_count": null,
   "id": "fc830a22",
   "metadata": {},
   "outputs": [],
   "source": []
  }
 ],
 "metadata": {
  "kernelspec": {
   "display_name": "Python 3 (ipykernel)",
   "language": "python",
   "name": "python3"
  },
  "language_info": {
   "codemirror_mode": {
    "name": "ipython",
    "version": 3
   },
   "file_extension": ".py",
   "mimetype": "text/x-python",
   "name": "python",
   "nbconvert_exporter": "python",
   "pygments_lexer": "ipython3",
   "version": "3.9.7"
  }
 },
 "nbformat": 4,
 "nbformat_minor": 5
}
